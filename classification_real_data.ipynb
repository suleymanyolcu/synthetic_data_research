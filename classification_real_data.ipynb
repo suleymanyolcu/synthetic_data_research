{
 "cells": [
  {
   "cell_type": "code",
   "execution_count": 1,
   "id": "ae2b0f7a",
   "metadata": {},
   "outputs": [
    {
     "name": "stdout",
     "output_type": "stream",
     "text": [
      "env: CUDA_DEVICE_ORDER=PCI_BUS_ID\n",
      "env: CUDA_VISIBLE_DEVICES=1\n"
     ]
    }
   ],
   "source": [
    "%env CUDA_DEVICE_ORDER=PCI_BUS_ID\n",
    "%env CUDA_VISIBLE_DEVICES=1"
   ]
  },
  {
   "cell_type": "code",
   "execution_count": 2,
   "id": "f9051199-c26b-4de9-9967-51be43bbc250",
   "metadata": {},
   "outputs": [
    {
     "name": "stderr",
     "output_type": "stream",
     "text": [
      "2024-08-28 06:38:27.938068: I tensorflow/core/platform/cpu_feature_guard.cc:182] This TensorFlow binary is optimized to use available CPU instructions in performance-critical operations.\n",
      "To enable the following instructions: AVX2 AVX512F FMA, in other operations, rebuild TensorFlow with the appropriate compiler flags.\n"
     ]
    }
   ],
   "source": [
    "import cv2\n",
    "import os\n",
    "import pathlib\n",
    "import tensorflow as tf\n",
    "from tensorflow.keras import layers, Model\n",
    "import numpy as np\n",
    "import matplotlib.pyplot as plt\n",
    "from sklearn.metrics import accuracy_score, classification_report\n",
    "from sklearn.metrics import f1_score, recall_score, precision_score\n",
    "from tensorflow.keras.applications import VGG16"
   ]
  },
  {
   "cell_type": "code",
   "execution_count": 3,
   "id": "f7689723-9461-4d5f-8812-8a1f469308bf",
   "metadata": {},
   "outputs": [
    {
     "data": {
      "text/plain": [
       "((5216, 64, 64, 1), (5216,))"
      ]
     },
     "execution_count": 3,
     "metadata": {},
     "output_type": "execute_result"
    }
   ],
   "source": [
    "class ReadDataset:\n",
    "    def __init__(self, datasetpath, labels, image_shape):\n",
    "        self.datasetpath = datasetpath\n",
    "        self.labels = labels\n",
    "        self.image_shape = image_shape\n",
    "    def returListImages(self,):\n",
    "        self.images = []\n",
    "        for label in self.labels:\n",
    "            self.images.append(list(pathlib.Path(os.path.join(self.datasetpath,\n",
    "                                                              label)).glob('*.*')))\n",
    "    def readImages(self,):\n",
    "        self.returListImages()\n",
    "        self.finalImages = []\n",
    "        labels = []\n",
    "        for label in range(len(self.labels)):\n",
    "            for img in self.images[label]:\n",
    "                img = cv2.imread(str(img), cv2.IMREAD_GRAYSCALE)\n",
    "                if img is None:\n",
    "                    continue\n",
    "                img = cv2.resize(img , self.image_shape[:2])\n",
    "                img  = img/255\n",
    "                img = np.expand_dims(img, axis=-1)  # Add channel dimension to get shape (64, 64, 1)\n",
    "                self.finalImages.append(img)\n",
    "                labels.append(label)\n",
    "        images = np.array(self.finalImages)\n",
    "        labels = np.array(labels)\n",
    "        return images, labels\n",
    "readDatasetObject = ReadDataset('train',\n",
    "                               ['NORMAL', 'PNEUMONIA'],\n",
    "                               (64, 64))\n",
    "images, labels = readDatasetObject.readImages()\n",
    "images.shape, labels.shape"
   ]
  },
  {
   "cell_type": "code",
   "execution_count": 5,
   "id": "65e105ad-5a18-4760-82f3-ebc5391c36f8",
   "metadata": {},
   "outputs": [
    {
     "name": "stdout",
     "output_type": "stream",
     "text": [
      "Model: \"model\"\n",
      "_________________________________________________________________\n",
      " Layer (type)                Output Shape              Param #   \n",
      "=================================================================\n",
      " input_2 (InputLayer)        [(None, 64, 64, 1)]       0         \n",
      "                                                                 \n",
      " block1_conv1 (Conv2D)       (None, 64, 64, 64)        640       \n",
      "                                                                 \n",
      " block1_conv2 (Conv2D)       (None, 64, 64, 64)        36928     \n",
      "                                                                 \n",
      " block1_pool (MaxPooling2D)  (None, 32, 32, 64)        0         \n",
      "                                                                 \n",
      " block2_conv1 (Conv2D)       (None, 32, 32, 128)       73856     \n",
      "                                                                 \n",
      " block2_conv2 (Conv2D)       (None, 32, 32, 128)       147584    \n",
      "                                                                 \n",
      " block2_pool (MaxPooling2D)  (None, 16, 16, 128)       0         \n",
      "                                                                 \n",
      " block3_conv1 (Conv2D)       (None, 16, 16, 256)       295168    \n",
      "                                                                 \n",
      " block3_conv2 (Conv2D)       (None, 16, 16, 256)       590080    \n",
      "                                                                 \n",
      " block3_conv3 (Conv2D)       (None, 16, 16, 256)       590080    \n",
      "                                                                 \n",
      " block3_pool (MaxPooling2D)  (None, 8, 8, 256)         0         \n",
      "                                                                 \n",
      " block4_conv1 (Conv2D)       (None, 8, 8, 512)         1180160   \n",
      "                                                                 \n",
      " block4_conv2 (Conv2D)       (None, 8, 8, 512)         2359808   \n",
      "                                                                 \n",
      " block4_conv3 (Conv2D)       (None, 8, 8, 512)         2359808   \n",
      "                                                                 \n",
      " block4_pool (MaxPooling2D)  (None, 4, 4, 512)         0         \n",
      "                                                                 \n",
      " block5_conv1 (Conv2D)       (None, 4, 4, 512)         2359808   \n",
      "                                                                 \n",
      " block5_conv2 (Conv2D)       (None, 4, 4, 512)         2359808   \n",
      "                                                                 \n",
      " block5_conv3 (Conv2D)       (None, 4, 4, 512)         2359808   \n",
      "                                                                 \n",
      " block5_pool (MaxPooling2D)  (None, 2, 2, 512)         0         \n",
      "                                                                 \n",
      " global_max_pooling2d_1 (Gl  (None, 512)               0         \n",
      " obalMaxPooling2D)                                               \n",
      "                                                                 \n",
      " dropout_1 (Dropout)         (None, 512)               0         \n",
      "                                                                 \n",
      " dense_1 (Dense)             (None, 128)               65664     \n",
      "                                                                 \n",
      " batch_normalization_1 (Bat  (None, 128)               512       \n",
      " chNormalization)                                                \n",
      "                                                                 \n",
      " leaky_re_lu (LeakyReLU)     (None, 128)               0         \n",
      "                                                                 \n",
      " dropout_2 (Dropout)         (None, 128)               0         \n",
      "                                                                 \n",
      " dense_2 (Dense)             (None, 32)                4128      \n",
      "                                                                 \n",
      " batch_normalization_2 (Bat  (None, 32)                128       \n",
      " chNormalization)                                                \n",
      "                                                                 \n",
      " leaky_re_lu_1 (LeakyReLU)   (None, 32)                0         \n",
      "                                                                 \n",
      " dropout_3 (Dropout)         (None, 32)                0         \n",
      "                                                                 \n",
      " dense_3 (Dense)             (None, 1)                 33        \n",
      "                                                                 \n",
      "=================================================================\n",
      "Total params: 14784001 (56.40 MB)\n",
      "Trainable params: 14783681 (56.40 MB)\n",
      "Non-trainable params: 320 (1.25 KB)\n",
      "_________________________________________________________________\n"
     ]
    }
   ],
   "source": [
    "basemodel = tf.keras.applications.VGG16(weights = None, input_shape = (64, 64, 1),\n",
    "                                        pooling = 'max', include_top = False)\n",
    "x = layers.Dropout(0.4)(basemodel.output)\n",
    "x = layers.Dense(128,)(x)\n",
    "x = layers.BatchNormalization()(x)\n",
    "x = layers.LeakyReLU(alpha = 0.2)(x)\n",
    "x = layers.Dropout(0.4)(x)\n",
    "x = layers.Dense(32,)(x)\n",
    "x = layers.BatchNormalization()(x)\n",
    "x = layers.LeakyReLU(alpha = 0.2)(x)\n",
    "x = layers.Dropout(0.4)(x)\n",
    "x = layers.Dense(1, activation = 'sigmoid')(x)\n",
    "m = tf.keras.models.Model(inputs = basemodel.input, outputs = x)\n",
    "m.compile(loss = 'binary_crossentropy', optimizer = tf.keras.optimizers.Adam(learning_rate = 0.00002))\n",
    "m.summary()"
   ]
  },
  {
   "cell_type": "code",
   "execution_count": 6,
   "id": "1321bd73-02ce-4181-9880-89cbcd32d750",
   "metadata": {},
   "outputs": [
    {
     "name": "stdout",
     "output_type": "stream",
     "text": [
      "Epoch 1/60\n"
     ]
    },
    {
     "name": "stderr",
     "output_type": "stream",
     "text": [
      "2024-08-28 06:39:14.520366: I tensorflow/compiler/xla/stream_executor/cuda/cuda_dnn.cc:432] Loaded cuDNN version 8600\n",
      "2024-08-28 06:39:15.117395: I tensorflow/compiler/xla/service/service.cc:168] XLA service 0x7f92d4036040 initialized for platform CUDA (this does not guarantee that XLA will be used). Devices:\n",
      "2024-08-28 06:39:15.117474: I tensorflow/compiler/xla/service/service.cc:176]   StreamExecutor device (0): Tesla V100-SXM2-16GB, Compute Capability 7.0\n",
      "2024-08-28 06:39:15.134888: I tensorflow/compiler/mlir/tensorflow/utils/dump_mlir_util.cc:255] disabling MLIR crash reproducer, set env var `MLIR_CRASH_REPRODUCER_DIRECTORY` to enable.\n",
      "2024-08-28 06:39:15.355580: I ./tensorflow/compiler/jit/device_compiler.h:186] Compiled cluster using XLA!  This line is logged at most once for the lifetime of the process.\n"
     ]
    },
    {
     "name": "stdout",
     "output_type": "stream",
     "text": [
      "131/131 [==============================] - 12s 35ms/step - loss: 0.5249 - val_loss: 0.6824\n",
      "Epoch 2/60\n",
      "131/131 [==============================] - 3s 24ms/step - loss: 0.3006 - val_loss: 0.6276\n",
      "Epoch 3/60\n",
      "131/131 [==============================] - 3s 25ms/step - loss: 0.2180 - val_loss: 0.4701\n",
      "Epoch 4/60\n",
      "131/131 [==============================] - 3s 25ms/step - loss: 0.1977 - val_loss: 0.2866\n",
      "Epoch 5/60\n",
      "131/131 [==============================] - 3s 25ms/step - loss: 0.1587 - val_loss: 0.1540\n",
      "Epoch 6/60\n",
      "131/131 [==============================] - 3s 24ms/step - loss: 0.1505 - val_loss: 0.5117\n",
      "Epoch 7/60\n",
      "131/131 [==============================] - 3s 26ms/step - loss: 0.1376 - val_loss: 0.1614\n",
      "Epoch 8/60\n",
      "131/131 [==============================] - 3s 26ms/step - loss: 0.1240 - val_loss: 0.2780\n"
     ]
    }
   ],
   "source": [
    "history = m.fit(images, labels,\n",
    "                epochs = 60, batch_size = 32,\n",
    "                validation_split = 0.2,\n",
    "                callbacks = [tf.keras.callbacks.EarlyStopping(patience = 3, monitor = 'val_loss', mode = 'min',\n",
    "                                                              restore_best_weights = True)])"
   ]
  },
  {
   "cell_type": "code",
   "execution_count": 7,
   "id": "26ae378c-8d80-40fc-aa8b-b5e5c5a7949f",
   "metadata": {},
   "outputs": [
    {
     "data": {
      "text/plain": [
       "<matplotlib.legend.Legend at 0x7f95a81e0250>"
      ]
     },
     "execution_count": 7,
     "metadata": {},
     "output_type": "execute_result"
    },
    {
     "data": {
      "image/png": "[encoded data removed]",
      "text/plain": [
       "<Figure size 700x600 with 1 Axes>"
      ]
     },
     "metadata": {},
     "output_type": "display_data"
    }
   ],
   "source": [
    "plt.figure(figsize = (7, 6))\n",
    "plt.plot(history.history['loss'], label = 'training loss')\n",
    "plt.plot(history.history['val_loss'], label = 'validation loss')\n",
    "plt.title('Results obtained while training a neural network on images generated by the neural network')\n",
    "plt.legend()"
   ]
  },
  {
   "cell_type": "code",
   "execution_count": 8,
   "id": "e5f63538-051a-4a45-8505-e49ce1a9890d",
   "metadata": {},
   "outputs": [
    {
     "data": {
      "text/plain": [
       "((5216, 64, 64, 1), (5216,))"
      ]
     },
     "execution_count": 8,
     "metadata": {},
     "output_type": "execute_result"
    }
   ],
   "source": [
    "images.shape,labels.shape"
   ]
  },
  {
   "cell_type": "code",
   "execution_count": 9,
   "id": "ce89a12a-3944-44d8-9ff6-7142eb857769",
   "metadata": {},
   "outputs": [
    {
     "name": "stdout",
     "output_type": "stream",
     "text": [
      "163/163 [==============================] - 2s 8ms/step - loss: 0.1666\n"
     ]
    },
    {
     "data": {
      "text/plain": [
       "0.16658078134059906"
      ]
     },
     "execution_count": 9,
     "metadata": {},
     "output_type": "execute_result"
    }
   ],
   "source": [
    "m.evaluate(images, labels)"
   ]
  },
  {
   "cell_type": "code",
   "execution_count": 10,
   "id": "2db71473-95d3-4f2b-b0b7-0e354b8b0ea1",
   "metadata": {},
   "outputs": [
    {
     "name": "stdout",
     "output_type": "stream",
     "text": [
      "163/163 [==============================] - 1s 6ms/step\n"
     ]
    },
    {
     "data": {
      "text/plain": [
       "TensorShape([5216])"
      ]
     },
     "execution_count": 10,
     "metadata": {},
     "output_type": "execute_result"
    }
   ],
   "source": [
    "y_pred = tf.squeeze(m.predict(images))\n",
    "y_pred.shape"
   ]
  },
  {
   "cell_type": "code",
   "execution_count": 11,
   "id": "52019883-58c4-4c3c-a6e9-b3fb2b4a8593",
   "metadata": {},
   "outputs": [
    {
     "data": {
      "text/plain": [
       "array([0, 0, 0, ..., 1, 1, 1], dtype=int32)"
      ]
     },
     "execution_count": 11,
     "metadata": {},
     "output_type": "execute_result"
    }
   ],
   "source": [
    "y_pred = y_pred >= 0.5\n",
    "y_pred = np.array(y_pred, dtype = 'int32')\n",
    "y_pred"
   ]
  },
  {
   "cell_type": "code",
   "execution_count": 12,
   "id": "ff612abd-e5a5-44dc-9b5e-a747376f0b50",
   "metadata": {},
   "outputs": [
    {
     "data": {
      "text/plain": [
       "97.60352760736197"
      ]
     },
     "execution_count": 12,
     "metadata": {},
     "output_type": "execute_result"
    }
   ],
   "source": [
    "accuracy_score(y_pred, labels)*100"
   ]
  },
  {
   "cell_type": "code",
   "execution_count": 13,
   "id": "b153518c-57e3-4021-a9ba-e4c034abb3aa",
   "metadata": {},
   "outputs": [
    {
     "name": "stdout",
     "output_type": "stream",
     "text": [
      "              precision    recall  f1-score   support\n",
      "\n",
      "           0       0.94      0.97      0.95      1296\n",
      "           1       0.99      0.98      0.98      3920\n",
      "\n",
      "    accuracy                           0.98      5216\n",
      "   macro avg       0.96      0.97      0.97      5216\n",
      "weighted avg       0.98      0.98      0.98      5216\n",
      "\n"
     ]
    }
   ],
   "source": [
    "print(classification_report(y_pred, labels))"
   ]
  },
  {
   "cell_type": "code",
   "execution_count": 14,
   "id": "9ebccf83-60c6-41fd-8cce-dd324c33b281",
   "metadata": {},
   "outputs": [
    {
     "data": {
      "text/plain": [
       "array([[1256,   40],\n",
       "       [  85, 3835]])"
      ]
     },
     "execution_count": 14,
     "metadata": {},
     "output_type": "execute_result"
    }
   ],
   "source": [
    "from sklearn.metrics import confusion_matrix\n",
    "import seaborn as sns\n",
    "cm = confusion_matrix(y_pred, labels)\n",
    "cm"
   ]
  },
  {
   "cell_type": "code",
   "execution_count": 15,
   "id": "5fa9e330-765f-41d0-8838-b545ab1b2368",
   "metadata": {},
   "outputs": [
    {
     "data": {
      "text/html": [
       "<div>\n",
       "<style scoped>\n",
       "    .dataframe tbody tr th:only-of-type {\n",
       "        vertical-align: middle;\n",
       "    }\n",
       "\n",
       "    .dataframe tbody tr th {\n",
       "        vertical-align: top;\n",
       "    }\n",
       "\n",
       "    .dataframe thead th {\n",
       "        text-align: right;\n",
       "    }\n",
       "</style>\n",
       "<table border=\"1\" class=\"dataframe\">\n",
       "  <thead>\n",
       "    <tr style=\"text-align: right;\">\n",
       "      <th></th>\n",
       "      <th>NORMAL</th>\n",
       "      <th>PNEUMONIA</th>\n",
       "    </tr>\n",
       "  </thead>\n",
       "  <tbody>\n",
       "    <tr>\n",
       "      <th>NORMAL</th>\n",
       "      <td>1256</td>\n",
       "      <td>40</td>\n",
       "    </tr>\n",
       "    <tr>\n",
       "      <th>PNEUMONIA</th>\n",
       "      <td>85</td>\n",
       "      <td>3835</td>\n",
       "    </tr>\n",
       "  </tbody>\n",
       "</table>\n",
       "</div>"
      ],
      "text/plain": [
       "           NORMAL  PNEUMONIA\n",
       "NORMAL       1256         40\n",
       "PNEUMONIA      85       3835"
      ]
     },
     "execution_count": 15,
     "metadata": {},
     "output_type": "execute_result"
    }
   ],
   "source": [
    "import pandas as pd\n",
    "cmObject = pd.DataFrame(cm , index = ['NORMAL', 'PNEUMONIA'],\n",
    "                        columns = ['NORMAL', 'PNEUMONIA'])\n",
    "cmObject.head()"
   ]
  },
  {
   "cell_type": "code",
   "execution_count": 16,
   "id": "5dbd1752-0a91-435b-b55d-ea945b1d33c0",
   "metadata": {},
   "outputs": [
    {
     "name": "stdout",
     "output_type": "stream",
     "text": [
      "f1_score: 98.39640795381655, recall_score: 97.83163265306123, precision_score: 98.96774193548387\n"
     ]
    }
   ],
   "source": [
    "print('f1_score: {}, recall_score: {}, precision_score: {}'.format(f1_score(y_pred, labels)*100,\n",
    "                                                                   recall_score(y_pred, labels)*100,\n",
    "                                                                   precision_score(y_pred, labels)*100))"
   ]
  },
  {
   "cell_type": "code",
   "execution_count": 17,
   "id": "4c69e1a9-3f6c-44e9-8763-98b2d760cdd0",
   "metadata": {},
   "outputs": [
    {
     "data": {
      "text/plain": [
       "<Axes: >"
      ]
     },
     "execution_count": 17,
     "metadata": {},
     "output_type": "execute_result"
    },
    {
     "data": {
      "image/png": "[encoded data removed]",
      "text/plain": [
       "<Figure size 640x480 with 2 Axes>"
      ]
     },
     "metadata": {},
     "output_type": "display_data"
    }
   ],
   "source": [
    "sns.heatmap(cmObject, annot = True, cmap=\"Blues\")"
   ]
  },
  {
   "cell_type": "code",
   "execution_count": null,
   "id": "90201fd2",
   "metadata": {},
   "outputs": [],
   "source": []
  }
 ],
 "metadata": {
  "kernelspec": {
   "display_name": "Python 3 (ipykernel)",
   "language": "python",
   "name": "python3"
  },
  "language_info": {
   "codemirror_mode": {
    "name": "ipython",
    "version": 3
   },
   "file_extension": ".py",
   "mimetype": "text/x-python",
   "name": "python",
   "nbconvert_exporter": "python",
   "pygments_lexer": "ipython3",
   "version": "3.8.10"
  }
 },
 "nbformat": 4,
 "nbformat_minor": 5
}
